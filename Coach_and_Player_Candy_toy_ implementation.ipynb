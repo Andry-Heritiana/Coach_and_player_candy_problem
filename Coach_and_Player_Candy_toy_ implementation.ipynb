{
 "cells": [
  {
   "cell_type": "markdown",
   "metadata": {},
   "source": [
    "For a given number of day and an estimated number of candies (guess), coach rewards home runs with candy to motivate a player during training. Then, we want to predict the maximum distance, using guess (the number of candies) and check in order to do an effective training. From a guess (number of candies), we roll two dice, one for the number of candies and one for the distance the player has to travel, so the outcomes will be random."
   ]
  },
  {
   "cell_type": "code",
   "execution_count": 1,
   "metadata": {},
   "outputs": [],
   "source": [
    "#Import necessarry packages \n",
    "import matplotlib.pyplot as plt\n",
    "import random as rd\n",
    "import numpy as np"
   ]
  },
  {
   "cell_type": "code",
   "execution_count": 2,
   "metadata": {},
   "outputs": [],
   "source": [
    "#Function to generate the Prediction\n",
    "def Prediction(nbday, numcandies):\n",
    "    predictions = []\n",
    "    velocity_horizontal = 5\n",
    "    for i in range(nbday):\n",
    "        numC = numcandies\n",
    "        t = 0\n",
    "        Distances = []\n",
    "        while(  0 < numC):\n",
    "            dice_candies = rd.randint(1,6)\n",
    "            dice_distance = rd.randint(1,6)\n",
    "            numC = numC - dice_candies\n",
    "            distance = dice_distance*velocity_horizontal\n",
    "            Distances.append(distance)\n",
    "        for i in Distances:\n",
    "            t =  t + i\n",
    "        predictions.append(t)\n",
    "    return (predictions)"
   ]
  },
  {
   "cell_type": "code",
   "execution_count": 3,
   "metadata": {},
   "outputs": [
    {
     "data": {
      "image/png": "[encoded data removed]",
      "text/plain": [
       "<Figure size 432x288 with 1 Axes>"
      ]
     },
     "metadata": {
      "needs_background": "light"
     },
     "output_type": "display_data"
    },
    {
     "name": "stdout",
     "output_type": "stream",
     "text": [
      "-------------------------------------\n",
      "hist obs\n",
      "\n",
      "[  0.   2.   8.  17.  53.  89. 118. 127. 158. 135. 111.  64.  55.  30.\n",
      "  18.   7.   6.   1.   1.   0.]\n",
      "[  0.  10.  20.  30.  40.  50.  60.  70.  80.  90. 100. 110. 120. 130.\n",
      " 140. 150. 160. 170. 180. 190. 200.]\n",
      "-------------------------------------\n",
      "hist preds\n",
      "\n",
      "[  0.   1.   5.  16.  40.  91. 128. 155. 142. 126. 112.  71.  55.  25.\n",
      "  18.   6.   7.   1.   0.   1.]\n",
      "[  0.  10.  20.  30.  40.  50.  60.  70.  80.  90. 100. 110. 120. 130.\n",
      " 140. 150. 160. 170. 180. 190. 200.]\n"
     ]
    }
   ],
   "source": [
    "#Plot of the histogram of the observations and the predictions\n",
    "Ess = [15] # guess for the number of Candies [13,14,15,20] Those are our \n",
    "#For each number of Candies, we generate predictions\n",
    "for i in Ess:\n",
    "    Preds = Prediction(1000, i)\n",
    "    \n",
    "    M = np.loadtxt('coach_and_player_distances.txt')\n",
    "    num_bins = 20\n",
    "    plt.suptitle('Are they the same?')\n",
    "    plt.title(i)\n",
    "    plt.xlabel('Observed Value')\n",
    "    plt.ylabel('N')\n",
    "    n,bins,patches = plt.hist(M, num_bins, range = (0, 200), label = 'observations', histtype='step', alpha=0.5, facecolor = 'blue')\n",
    "    n2,bins2,patches2 = plt.hist(Preds, num_bins, range =(0, 200), label = 'prediction', alpha=0.5, facecolor = 'brown')\n",
    "    plt.legend()\n",
    "    plt.show()\n",
    "    print(\"-------------------------------------\")\n",
    "    print(\"hist obs\\n\")\n",
    "    print(n)\n",
    "    print(bins)\n",
    "    \n",
    "    print(\"-------------------------------------\")\n",
    "    \n",
    "    print(\"hist preds\\n\")\n",
    "    print(n2)\n",
    "    print(bins2)\n",
    "    "
   ]
  },
  {
   "cell_type": "code",
   "execution_count": 4,
   "metadata": {},
   "outputs": [
    {
     "name": "stdout",
     "output_type": "stream",
     "text": [
      "Chi2 for bin  8  :  1.8028169014084507\n",
      "SumChi2(hist) :  18.425037830373473\n"
     ]
    },
    {
     "data": {
      "image/png": "[encoded data removed]",
      "text/plain": [
       "<Figure size 432x288 with 1 Axes>"
      ]
     },
     "metadata": {
      "needs_background": "light"
     },
     "output_type": "display_data"
    }
   ],
   "source": [
    "#For the number of candies equal to  15\n",
    "#The histogram of the predictions is nearly the same as the histogram of the observations\n",
    "#So, we use the predictions from this number of candies to check the chi-square\n",
    "#Take each enterance for each bin from the predictions and the observations\n",
    "dcontent, dedges, dpatches = plt.hist(M, bins = 20 , range =(0, 200));\n",
    "data_obs = dcontent\n",
    "\n",
    "pcontent, pedges, ppatches = plt.hist(Preds, bins= 20, range=(0, 200));\n",
    "data_pred = pcontent\n",
    "\n",
    "# calculating chi-squared\n",
    "#\n",
    "# calculate chi-squared for the third bin in the distribution\n",
    "# as a reminder, the equation is :\n",
    "#\n",
    "# chi2bin = [(Pi - Oi)/Err(Pi)]**2\n",
    "#\n",
    "# now, the Err(Pi) can be obtained by taking the RMS of the distribution of the values of\n",
    "# the predicted bin content in this single bin (i.e. the RMS of the blue distribution \n",
    "# just above this)\n",
    "# \n",
    "# however, since this is a counting experiment and so it is a good assumption (we can show it later)\n",
    "# that the error on Pi comes from poisson distribution : sqrt(Pi)\n",
    "#\n",
    "ibin = 8\n",
    "chi2_bin = ((data_obs[ibin]-data_pred[ibin])/data_pred[ibin]**0.5)**2\n",
    "\n",
    "print(\"Chi2 for bin \",ibin,\" : \",chi2_bin)\n",
    "\n",
    "sum_chi2 = 0\n",
    "\n",
    "for i in range(len(data_obs)):\n",
    "    \n",
    "    if data_pred[i]==0:\n",
    "        continue\n",
    "    chi2_bin = ((data_obs[i]-data_pred[i])/data_pred[i]**0.5)**2\n",
    "    sum_chi2 += chi2_bin\n",
    "    \n",
    "print(\"SumChi2(hist) : \",sum_chi2)"
   ]
  },
  {
   "cell_type": "markdown",
   "metadata": {},
   "source": [
    " The values that we get for the Chi2 for a bin and the sum of the Chi2 of all bins are low. Thus, our guess \"Number of Candies = 15\" is reasonable. So, the estimate number of candies to provide is 15"
   ]
  }
 ],
 "metadata": {
  "kernelspec": {
   "display_name": "Python 3",
   "language": "python",
   "name": "python3"
  },
  "language_info": {
   "codemirror_mode": {
    "name": "ipython",
    "version": 3
   },
   "file_extension": ".py",
   "mimetype": "text/x-python",
   "name": "python",
   "nbconvert_exporter": "python",
   "pygments_lexer": "ipython3",
   "version": "3.7.3"
  }
 },
 "nbformat": 4,
 "nbformat_minor": 2
}
